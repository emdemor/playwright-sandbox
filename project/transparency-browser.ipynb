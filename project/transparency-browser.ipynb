{
 "cells": [
  {
   "cell_type": "code",
   "execution_count": null,
   "id": "d033c11e-cfb5-401b-9d01-1f1c8bf09e5f",
   "metadata": {},
   "outputs": [],
   "source": [
    "agent_rules = [{\n",
    "    \"role\": \"system\",\n",
    "    \"content\": \"\"\"\n",
    "Você é um agente de IA que pode executar tarefas utilizando ferramentas disponíveis.\n",
    "\n",
    "Ferramentas disponíveis:\n",
    "- get_() -> Literal[\"\", \"\"]: Listar todos os arquivos no diretório atual.\n",
    "- read_file(file_name: str) -> str: Ler o conteúdo de um arquivo.\n",
    "- terminate(message: str): Finalizar o loop do agente e imprimir um resumo.\n",
    "\n",
    "Se um usuário perguntar sobre arquivos, liste-os antes de ler.\n",
    "\n",
    "Toda resposta DEVE conter uma ação.\n",
    "Responda neste formato:\n",
    "\n",
    "```action\n",
    "{\n",
    "    \"tool_name\": \"inserir_nome_da_ferramenta\",\n",
    "    \"args\": {...preencher argumentos necessários aqui...}\n",
    "}\n",
    "```\n",
    "\n",
    "\"\"\" }]"
   ]
  },
  {
   "cell_type": "code",
   "execution_count": null,
   "id": "5086f391-bab0-4317-aaf6-14226465e97c",
   "metadata": {},
   "outputs": [],
   "source": []
  }
 ],
 "metadata": {
  "kernelspec": {
   "display_name": "Python 3 (ipykernel)",
   "language": "python",
   "name": "python3"
  },
  "language_info": {
   "codemirror_mode": {
    "name": "ipython",
    "version": 3
   },
   "file_extension": ".py",
   "mimetype": "text/x-python",
   "name": "python",
   "nbconvert_exporter": "python",
   "pygments_lexer": "ipython3",
   "version": "3.12.2"
  }
 },
 "nbformat": 4,
 "nbformat_minor": 5
}

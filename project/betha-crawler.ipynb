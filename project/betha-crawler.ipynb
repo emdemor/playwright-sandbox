{
 "cells": [
  {
   "cell_type": "code",
   "execution_count": 1,
   "id": "db5943f9-0029-4eb4-9a17-e0e6696edf19",
   "metadata": {
    "execution": {
     "iopub.execute_input": "2025-05-06T03:23:47.895779Z",
     "iopub.status.busy": "2025-05-06T03:23:47.895560Z",
     "iopub.status.idle": "2025-05-06T03:23:47.898671Z",
     "shell.execute_reply": "2025-05-06T03:23:47.898189Z",
     "shell.execute_reply.started": "2025-05-06T03:23:47.895762Z"
    }
   },
   "outputs": [],
   "source": [
    "import nest_asyncio\n",
    "\n",
    "nest_asyncio.apply()"
   ]
  },
  {
   "cell_type": "code",
   "execution_count": 8,
   "id": "b8bd5afb-0594-45a1-8392-6f5f2fb6e1f2",
   "metadata": {
    "execution": {
     "iopub.execute_input": "2025-05-06T03:44:13.406137Z",
     "iopub.status.busy": "2025-05-06T03:44:13.405864Z",
     "iopub.status.idle": "2025-05-06T03:44:13.408582Z",
     "shell.execute_reply": "2025-05-06T03:44:13.408217Z",
     "shell.execute_reply.started": "2025-05-06T03:44:13.406119Z"
    }
   },
   "outputs": [],
   "source": [
    "import os\n",
    "import asyncio\n",
    "import random\n",
    "from playwright.async_api import async_playwright\n",
    "from typing import List, Dict, Any, Literal\n",
    "from fake_useragent import UserAgent\n",
    "import time\n",
    "from functools import reduce"
   ]
  },
  {
   "cell_type": "code",
   "execution_count": 9,
   "id": "1c9e50db-70e5-42c5-a409-c60c83be43d5",
   "metadata": {
    "execution": {
     "iopub.execute_input": "2025-05-06T03:44:13.853632Z",
     "iopub.status.busy": "2025-05-06T03:44:13.853454Z",
     "iopub.status.idle": "2025-05-06T03:44:13.890132Z",
     "shell.execute_reply": "2025-05-06T03:44:13.889260Z",
     "shell.execute_reply.started": "2025-05-06T03:44:13.853616Z"
    }
   },
   "outputs": [],
   "source": [
    "ua = UserAgent()"
   ]
  },
  {
   "cell_type": "code",
   "execution_count": 166,
   "id": "dcbe44a7-4e9b-4d4e-8535-f2db588b0a68",
   "metadata": {
    "execution": {
     "iopub.execute_input": "2025-05-06T05:08:35.155526Z",
     "iopub.status.busy": "2025-05-06T05:08:35.155027Z",
     "iopub.status.idle": "2025-05-06T05:08:35.157624Z",
     "shell.execute_reply": "2025-05-06T05:08:35.157343Z",
     "shell.execute_reply.started": "2025-05-06T05:08:35.155494Z"
    }
   },
   "outputs": [],
   "source": [
    "import os"
   ]
  },
  {
   "cell_type": "code",
   "execution_count": 41,
   "id": "d46001b4-d751-4bcc-ba88-8c3b397458fe",
   "metadata": {
    "execution": {
     "iopub.execute_input": "2025-05-06T03:59:33.600105Z",
     "iopub.status.busy": "2025-05-06T03:59:33.599827Z",
     "iopub.status.idle": "2025-05-06T03:59:33.604974Z",
     "shell.execute_reply": "2025-05-06T03:59:33.604355Z",
     "shell.execute_reply.started": "2025-05-06T03:59:33.600083Z"
    }
   },
   "outputs": [],
   "source": [
    "async def set_chromium(playwright, headless=True):\n",
    "    return await playwright.chromium.launch(\n",
    "        headless=headless,\n",
    "        args=[\n",
    "            \"--disable-blink-features=AutomationControlled\",\n",
    "            \"--disable-features=IsolateOrigins,site-per-process\",\n",
    "            \"--disable-dev-shm-usage\",\n",
    "            \"--no-sandbox\",\n",
    "            \"--disable-setuid-sandbox\",\n",
    "        ],\n",
    "    )\n",
    "\n",
    "\n",
    "async def set_firefox(playwright, headless=True):\n",
    "    return await playwright.firefox.launch(\n",
    "        headless=headless,\n",
    "        firefox_user_prefs={\n",
    "            \"dom.webdriver.enabled\": False,\n",
    "            \"privacy.resistFingerprinting\": False,\n",
    "            \"browser.cache.disk.enable\": True,\n",
    "            \"browser.cache.memory.enable\": True,\n",
    "        },\n",
    "        args=[\"--disable-dev-shm-usage\", \"--no-sandbox\"],\n",
    "    )\n",
    "\n",
    "\n",
    "async def set_browser(\n",
    "    playwright, engine: Literal[\"firefox\", \"chromium\", \"random\"], headless: bool = True\n",
    "):\n",
    "    if engine == \"random\":\n",
    "        engine = random.choice([\"chromium\", \"firefox\"])\n",
    "\n",
    "    match engine:\n",
    "        case \"firefox\":\n",
    "            return await set_firefox(playwright, headless=headless)\n",
    "        case \"chromium\":\n",
    "            return await set_chromium(playwright, headless=headless)\n",
    "        case _:\n",
    "            raise ValueError(f\"Engine {_} not recognized.\")\n",
    "\n",
    "\n",
    "async def set_context(browser):\n",
    "    # Create a new browser context with random viewport size\n",
    "    viewport_width = random.randint(1000, 1920)\n",
    "    viewport_height = random.randint(800, 1080)\n",
    "\n",
    "    return await browser.new_context(\n",
    "        user_agent=ua.random,\n",
    "        viewport={\"width\": viewport_width, \"height\": viewport_height},\n",
    "        locale=random.choice([\"pt-BR\", \"pt-PT\", \"es-AR\", \"es-UY\", \"es-PY\"]),\n",
    "        timezone_id=random.choice(\n",
    "            [\n",
    "                \"America/Sao_Paulo\",\n",
    "                \"America/Rio_Branco\",\n",
    "                \"America/Manaus\",\n",
    "                \"America/Fortaleza\",\n",
    "                \"America/Recife\",\n",
    "                \"America/Argentina/Buenos_Aires\",\n",
    "                \"America/Montevideo\",\n",
    "            ]\n",
    "        ),\n",
    "        permissions=[\"geolocation\"],\n",
    "        has_touch=random.choice([True, False]),\n",
    "    )\n",
    "\n",
    "\n",
    "async def set_page(context):\n",
    "    page = await context.new_page()\n",
    "\n",
    "    # Emulate human-like behavior by intercepting WebDriver calls\n",
    "    await page.add_init_script(\"\"\"\n",
    "    Object.defineProperty(navigator, 'webdriver', {\n",
    "        get: () => false\n",
    "    });\n",
    "    \n",
    "    // Add plugins length\n",
    "    Object.defineProperty(navigator, 'plugins', {\n",
    "        get: () => [1, 2, 3, 4, 5]\n",
    "    });\n",
    "    \n",
    "    // Overwrite the languages property\n",
    "    Object.defineProperty(navigator, 'languages', {\n",
    "        get: () => ['pt-BR', 'pt']\n",
    "    });\n",
    "    \"\"\")\n",
    "\n",
    "    return page"
   ]
  },
  {
   "cell_type": "code",
   "execution_count": 108,
   "id": "ad9bd1d0-1c09-41c3-96fe-fcfbd980910c",
   "metadata": {
    "execution": {
     "iopub.execute_input": "2025-05-06T04:34:52.979367Z",
     "iopub.status.busy": "2025-05-06T04:34:52.979018Z",
     "iopub.status.idle": "2025-05-06T04:34:52.982618Z",
     "shell.execute_reply": "2025-05-06T04:34:52.982270Z",
     "shell.execute_reply.started": "2025-05-06T04:34:52.979343Z"
    }
   },
   "outputs": [],
   "source": [
    "async def do_movements(page):\n",
    "    # Random scrolling behavior\n",
    "    for _ in range(random.randint(3, 7)):\n",
    "        await page.mouse.wheel(0, random.randint(100, 500))\n",
    "        await asyncio.sleep(random.uniform(0.1, 0.5))\n",
    "\n",
    "    # Random mouse movements\n",
    "    for _ in range(random.randint(3, 8)):\n",
    "        await page.mouse.move(\n",
    "            random.randint(100, 1000 - 100),\n",
    "            random.randint(100, 800 - 100),\n",
    "            steps=random.randint(1, 4),\n",
    "        )\n",
    "        await asyncio.sleep(random.uniform(0.05, 0.1))"
   ]
  },
  {
   "cell_type": "code",
   "execution_count": 96,
   "id": "f20981f7-1f44-4b23-9fba-2b2674db1c06",
   "metadata": {
    "execution": {
     "iopub.execute_input": "2025-05-06T04:27:40.826159Z",
     "iopub.status.busy": "2025-05-06T04:27:40.825845Z",
     "iopub.status.idle": "2025-05-06T04:27:40.831963Z",
     "shell.execute_reply": "2025-05-06T04:27:40.831425Z",
     "shell.execute_reply.started": "2025-05-06T04:27:40.826132Z"
    }
   },
   "outputs": [],
   "source": [
    "async def clear_headers(original_headers):\n",
    "    \"\"\"Limpa os headers mantendo apenas os campos necessários.\"\"\"\n",
    "    # Campos que consideramos necessários para a requisição\n",
    "    necessary_fields = [\n",
    "        \"user-agent\",\n",
    "        \"accept\",\n",
    "        \"referer\",\n",
    "        \"authorization\",\n",
    "        \"origin\",\n",
    "        \"host\",\n",
    "    ]\n",
    "\n",
    "    # Cria um novo dicionário apenas com os campos necessários\n",
    "    cleaned_headers = {\n",
    "        k: v for k, v in original_headers.items() if k.lower() in necessary_fields\n",
    "    }\n",
    "\n",
    "    return cleaned_headers\n",
    "\n",
    "\n",
    "async def perform_api_request(context, headers, endpoint):\n",
    "    \"\"\"Realiza uma requisição GET para o endpoint usando os headers fornecidos.\"\"\"\n",
    "    cleaned_headers = await clear_headers(headers)\n",
    "    api_page = await set_page(context)\n",
    "    try:\n",
    "        response = await api_page.request.get(endpoint, headers=cleaned_headers)\n",
    "        if response.ok:\n",
    "            return await response.json()\n",
    "\n",
    "        error_text = await response.text()\n",
    "        print(f\"Falha na requisição. Status: {response.status} | Erro: {error_text}\")\n",
    "        return None\n",
    "\n",
    "    except Exception as e:\n",
    "        print(f\"Erro ao fazer a requisição: {str(e)}\")\n",
    "        return None\n",
    "    finally:\n",
    "        # Fecha a página da API\n",
    "        await api_page.close()"
   ]
  },
  {
   "cell_type": "markdown",
   "id": "44fb865d-4548-4609-97ef-26640b7249cd",
   "metadata": {},
   "source": [
    "# Obter base da Betha"
   ]
  },
  {
   "cell_type": "code",
   "execution_count": 106,
   "id": "35fe31dc-fc2b-4e70-b768-2fd0f34dcd29",
   "metadata": {
    "execution": {
     "iopub.execute_input": "2025-05-06T04:33:47.017791Z",
     "iopub.status.busy": "2025-05-06T04:33:47.017511Z",
     "iopub.status.idle": "2025-05-06T04:33:47.020082Z",
     "shell.execute_reply": "2025-05-06T04:33:47.019733Z",
     "shell.execute_reply.started": "2025-05-06T04:33:47.017769Z"
    }
   },
   "outputs": [],
   "source": [
    "def generate_endpoint(limit, offset):\n",
    "    return f\"https://api.transparencia.betha.cloud/transparencia/auth/portais?filter=nome+like+%27%2525%2525%27&limit={limit}&offset={offset}\""
   ]
  },
  {
   "cell_type": "code",
   "execution_count": 109,
   "id": "ed47a2c6-b181-46d4-b988-bcd1e8601e47",
   "metadata": {
    "execution": {
     "iopub.execute_input": "2025-05-06T04:36:23.323899Z",
     "iopub.status.busy": "2025-05-06T04:36:23.323570Z",
     "iopub.status.idle": "2025-05-06T04:36:53.342177Z",
     "shell.execute_reply": "2025-05-06T04:36:53.341683Z",
     "shell.execute_reply.started": "2025-05-06T04:36:23.323873Z"
    }
   },
   "outputs": [
    {
     "name": "stdout",
     "output_type": "stream",
     "text": [
      "Downloading from 0 to 100\n",
      "Downloading from 100 to 200\n",
      "Downloading from 200 to 300\n",
      "Downloading from 300 to 400\n",
      "Downloading from 400 to 500\n",
      "Downloading from 500 to 600\n",
      "Downloading from 600 to 700\n",
      "Downloading from 700 to 800\n",
      "Downloading from 800 to 900\n",
      "Downloading from 900 to 1000\n",
      "Downloading from 1000 to 1090\n"
     ]
    }
   ],
   "source": [
    "import asyncio\n",
    "from playwright.async_api import async_playwright\n",
    "from typing import List, Dict, Any\n",
    "\n",
    "url = \"https://transparencia.betha.cloud/\"\n",
    "\n",
    "\n",
    "def generate_endpoint(limit, offset):\n",
    "    return f\"https://api.transparencia.betha.cloud/transparencia/auth/portais?filter=nome+like+%27%2525%2525%27&limit={limit}&offset={offset}\"\n",
    "\n",
    "\n",
    "responses_list: List[Dict[str, Any]] = []\n",
    "\n",
    "\n",
    "def handle_response(response):\n",
    "    condition = (\n",
    "        (response.status == 200)\n",
    "        & (response.url[-3:] != \".js\")\n",
    "        & (response.url[-4:] != \".css\")\n",
    "        & (response.url[-4:] != \".ttf\")\n",
    "        & (response.url[-4:] != \".svg\")\n",
    "        & (response.url[-4:] != \".png\")\n",
    "        & (response.url[-4:] != \".jpg\")\n",
    "        & (\".js?\" not in response.url)\n",
    "        & (\".woff\" not in response.url)\n",
    "    )\n",
    "\n",
    "    if condition:\n",
    "        responses_list.append(response)\n",
    "\n",
    "\n",
    "async with async_playwright() as playwright:\n",
    "    browser = await set_browser(playwright, engine=\"random\")\n",
    "    context = await set_context(browser)\n",
    "    page = await set_page(context)\n",
    "\n",
    "    page.on(\"response\", handle_response)\n",
    "\n",
    "    await page.goto(url, wait_until=\"networkidle\")\n",
    "\n",
    "    # await do_movements(page)\n",
    "\n",
    "    portais_request = [\n",
    "        resp\n",
    "        for resp in responses_list\n",
    "        if ((\"/portais\" in resp.url) and (\"estados\" not in resp.url))\n",
    "    ][0]\n",
    "    portais_json = await portais_request.json()\n",
    "    total_portais = portais_json.get(\"total\", 2000)\n",
    "\n",
    "    request_headers = await portais_request.request.all_headers()\n",
    "\n",
    "    batch_size = 100\n",
    "\n",
    "    downloaded_results = []\n",
    "    for offset in range(0, total_portais, batch_size):\n",
    "        end = min(total_portais, offset + batch_size)\n",
    "        print(f\"Downloading from {offset} to {end}\")\n",
    "        limit = end - offset\n",
    "        endpoint = generate_endpoint(limit, offset)\n",
    "        result = await perform_api_request(context, request_headers, endpoint)\n",
    "        downloaded_results.append(result)\n",
    "        await do_movements(page)\n",
    "\n",
    "    await browser.close()\n",
    "\n",
    "\n",
    "portais = reduce(lambda x, y: x + y, [x[\"content\"] for x in downloaded_results])"
   ]
  },
  {
   "cell_type": "code",
   "execution_count": 126,
   "id": "d1015bb7-07b7-4c55-849a-a192eb8e06c6",
   "metadata": {
    "execution": {
     "iopub.execute_input": "2025-05-06T04:44:40.969458Z",
     "iopub.status.busy": "2025-05-06T04:44:40.969132Z",
     "iopub.status.idle": "2025-05-06T04:44:40.992733Z",
     "shell.execute_reply": "2025-05-06T04:44:40.991895Z",
     "shell.execute_reply.started": "2025-05-06T04:44:40.969430Z"
    }
   },
   "outputs": [],
   "source": [
    "import json\n",
    "\n",
    "base_url = \"https://transparencia.betha.cloud\"\n",
    "\n",
    "\n",
    "for portal in portais:\n",
    "    if _hash := portal.get(\"hash\"):\n",
    "        portal.update(\n",
    "            {\n",
    "                \"homepage\": f\"{base_url}/#/{_hash}\",\n",
    "            }\n",
    "        )\n",
    "\n",
    "with open(\"portais.json\", \"w\") as f:\n",
    "    f.write(json.dumps(portais, indent=4))"
   ]
  },
  {
   "cell_type": "code",
   "execution_count": 127,
   "id": "39dbe6e7-06f8-4415-83e4-5e2f7e94a116",
   "metadata": {
    "execution": {
     "iopub.execute_input": "2025-05-06T04:44:42.983520Z",
     "iopub.status.busy": "2025-05-06T04:44:42.983200Z",
     "iopub.status.idle": "2025-05-06T04:44:42.987412Z",
     "shell.execute_reply": "2025-05-06T04:44:42.987006Z",
     "shell.execute_reply.started": "2025-05-06T04:44:42.983494Z"
    }
   },
   "outputs": [
    {
     "data": {
      "text/plain": [
       "{'id': 1053,\n",
       " 'nome': 'CÂMARA MUNICIPAL ALFREDO WAGNER',\n",
       " 'estado': 'Santa Catarina',\n",
       " 'uf': 'SC',\n",
       " 'codigoIbge': 4200705,\n",
       " 'cor': 'AZUL',\n",
       " 'portalEntidades': [{'id': 2100, 'database': 1244, 'entidade': 2363}],\n",
       " 'createdBy': 'eduarda.diniz',\n",
       " 'createdIn': '2024-04-26T11:44:51.08',\n",
       " 'updatedBy': 'julianahasckel',\n",
       " 'updatedIn': '2024-07-13T17:04:33.533',\n",
       " 'municipio': 'Alfredo Wagner',\n",
       " 'textoAlternativoImagemFundo': None,\n",
       " 'seloS3Key': None,\n",
       " 'publicarSelo': False,\n",
       " 'hash': 'UnsG5XuuoBixbrD6_V-FpA==',\n",
       " 'homepage': 'https://transparencia.betha.cloud/#/UnsG5XuuoBixbrD6_V-FpA=='}"
      ]
     },
     "execution_count": 127,
     "metadata": {},
     "output_type": "execute_result"
    }
   ],
   "source": [
    "portais[26]"
   ]
  },
  {
   "cell_type": "code",
   "execution_count": 148,
   "id": "1a8c1059-83d5-464b-b0bd-6ea2e91638ce",
   "metadata": {
    "execution": {
     "iopub.execute_input": "2025-05-06T04:58:58.822372Z",
     "iopub.status.busy": "2025-05-06T04:58:58.821836Z",
     "iopub.status.idle": "2025-05-06T04:59:04.853775Z",
     "shell.execute_reply": "2025-05-06T04:59:04.853351Z",
     "shell.execute_reply.started": "2025-05-06T04:58:58.822337Z"
    }
   },
   "outputs": [],
   "source": [
    "!pip install pandas -qqq"
   ]
  },
  {
   "cell_type": "code",
   "execution_count": 149,
   "id": "0b2eb150-0a2a-4b7e-b077-fad1508fd5aa",
   "metadata": {
    "execution": {
     "iopub.execute_input": "2025-05-06T04:59:10.259294Z",
     "iopub.status.busy": "2025-05-06T04:59:10.259032Z",
     "iopub.status.idle": "2025-05-06T04:59:10.491851Z",
     "shell.execute_reply": "2025-05-06T04:59:10.491389Z",
     "shell.execute_reply.started": "2025-05-06T04:59:10.259272Z"
    }
   },
   "outputs": [],
   "source": [
    "import pandas as pd\n",
    "\n",
    "idxs = pd.Series([portal[\"id\"] for portal in portais])"
   ]
  },
  {
   "cell_type": "code",
   "execution_count": 152,
   "id": "eda90b3f-870e-48e7-b4f4-84011e01e107",
   "metadata": {
    "execution": {
     "iopub.execute_input": "2025-05-06T04:59:33.394934Z",
     "iopub.status.busy": "2025-05-06T04:59:33.394336Z",
     "iopub.status.idle": "2025-05-06T04:59:33.432796Z",
     "shell.execute_reply": "2025-05-06T04:59:33.432523Z",
     "shell.execute_reply.started": "2025-05-06T04:59:33.394904Z"
    }
   },
   "outputs": [
    {
     "data": {
      "text/plain": [
       "1090"
      ]
     },
     "execution_count": 152,
     "metadata": {},
     "output_type": "execute_result"
    }
   ],
   "source": [
    "idxs.nunique()"
   ]
  },
  {
   "cell_type": "markdown",
   "id": "36192e19-f95d-4545-8302-a7d283eb00f2",
   "metadata": {},
   "source": [
    "# Baixar Menus"
   ]
  },
  {
   "cell_type": "code",
   "execution_count": 153,
   "id": "970dc3e6-fb93-43a7-94c6-76464059e8ec",
   "metadata": {
    "execution": {
     "iopub.execute_input": "2025-05-06T05:02:50.201269Z",
     "iopub.status.busy": "2025-05-06T05:02:50.200589Z",
     "iopub.status.idle": "2025-05-06T05:02:51.674753Z",
     "shell.execute_reply": "2025-05-06T05:02:51.674071Z",
     "shell.execute_reply.started": "2025-05-06T05:02:50.201234Z"
    }
   },
   "outputs": [],
   "source": [
    "!pip install tenacity -qqq"
   ]
  },
  {
   "cell_type": "code",
   "execution_count": 154,
   "id": "3a062c99-0572-4fb6-9ad9-eea3452ccff6",
   "metadata": {
    "execution": {
     "iopub.execute_input": "2025-05-06T05:02:58.929625Z",
     "iopub.status.busy": "2025-05-06T05:02:58.928973Z",
     "iopub.status.idle": "2025-05-06T05:02:58.932544Z",
     "shell.execute_reply": "2025-05-06T05:02:58.931913Z",
     "shell.execute_reply.started": "2025-05-06T05:02:58.929587Z"
    }
   },
   "outputs": [],
   "source": [
    "class MenuRequestNotFoundError(Exception):\n",
    "    \"\"\"Exceção customizada para quando a requisição do menu não é encontrada.\"\"\"\n",
    "\n",
    "    pass\n",
    "\n",
    "\n",
    "class JsonRequestError(Exception):\n",
    "    \"\"\"Exceção customizada para quando há erro ao obter o JSON.\"\"\"\n",
    "\n",
    "    pass"
   ]
  },
  {
   "cell_type": "code",
   "execution_count": 174,
   "id": "11d3d9dc-b400-4379-a884-d86416755d2a",
   "metadata": {
    "execution": {
     "iopub.execute_input": "2025-05-06T05:12:43.281643Z",
     "iopub.status.busy": "2025-05-06T05:12:43.281360Z",
     "iopub.status.idle": "2025-05-06T05:12:43.288455Z",
     "shell.execute_reply": "2025-05-06T05:12:43.287964Z",
     "shell.execute_reply.started": "2025-05-06T05:12:43.281619Z"
    }
   },
   "outputs": [],
   "source": [
    "from playwright.async_api import TimeoutError as PlaywrightTimeoutError\n",
    "from tenacity import (\n",
    "    retry,\n",
    "    stop_after_attempt,\n",
    "    wait_exponential,\n",
    "    retry_if_exception_type,\n",
    ")\n",
    "\n",
    "\n",
    "# Utilizando tenacity para implementar retries\n",
    "@retry(\n",
    "    stop=stop_after_attempt(3),  # Tenta no máximo 3 vezes\n",
    "    wait=wait_exponential(\n",
    "        multiplier=1, min=1, max=10\n",
    "    ),  # Espera entre tentativas aumenta exponencialmente\n",
    "    retry=retry_if_exception_type(\n",
    "        (PlaywrightTimeoutError, MenuRequestNotFoundError, JsonRequestError)\n",
    "    ),\n",
    "    reraise=True,\n",
    ")\n",
    "async def get_menu_info(url: str, count: int) -> List[Dict] | None:\n",
    "    \"\"\"\n",
    "    Extrai informações de menu de uma URL com sistema de retries.\n",
    "\n",
    "    Args:\n",
    "        url: URL a ser processada\n",
    "        count: Contador do loop atual (usado para geração de ID)\n",
    "\n",
    "    Returns:\n",
    "        Lista de dicionários contendo informações de menu ou None em caso de falha\n",
    "    \"\"\"\n",
    "    print(f\"\\n[{count + 1}] Processando URL: {url}\")\n",
    "    responses_list = []\n",
    "\n",
    "    def handle_response(response):\n",
    "        condition = (\n",
    "            (response.status == 200)\n",
    "            and (response.url[-3:] != \".js\")\n",
    "            and (response.url[-4:] != \".css\")\n",
    "            and (response.url[-4:] != \".ttf\")\n",
    "            and (response.url[-4:] != \".svg\")\n",
    "            and (response.url[-4:] != \".png\")\n",
    "            and (response.url[-4:] != \".jpg\")\n",
    "            and (\".js?\" not in response.url)\n",
    "            and (\".woff\" not in response.url)\n",
    "        )\n",
    "\n",
    "        if condition:\n",
    "            responses_list.append(response)\n",
    "\n",
    "    try:\n",
    "        async with async_playwright() as playwright:\n",
    "            browser = await set_browser(playwright, engine=\"random\", headless=True)\n",
    "            context = await set_context(browser)\n",
    "            page = await set_page(context)\n",
    "\n",
    "            page.on(\"response\", handle_response)\n",
    "            await page.goto(url, wait_until=\"networkidle\", timeout=60000)\n",
    "            await do_movements(page)\n",
    "            menu_requests = [resp for resp in responses_list if \"/menu\" in resp.url]\n",
    "\n",
    "            if not menu_requests:\n",
    "                print(\n",
    "                    f\"  ERRO: Requisição de menu não encontrada. Total de respostas: {len(responses_list)}\"\n",
    "                )\n",
    "                captured_urls = [resp.url for resp in responses_list]\n",
    "                print(f\"  URLs capturadas: {captured_urls[:5]}...\")\n",
    "                raise MenuRequestNotFoundError(\"Requisição de menu não encontrada\")\n",
    "\n",
    "            menu_request = menu_requests[0]\n",
    "\n",
    "            try:\n",
    "                menu_json = await menu_request.json()\n",
    "                if not isinstance(menu_json, list) or len(menu_json) == 0:\n",
    "                    raise JsonRequestError(\"Dados JSON inválidos ou vazios\")\n",
    "\n",
    "            except Exception as e:\n",
    "                print(f\"  ERRO ao processar JSON: {str(e)}\")\n",
    "                body_text = await menu_request.text()\n",
    "                print(\n",
    "                    f\"  Corpo da resposta (primeiros 100 caracteres): {body_text[:100]}...\"\n",
    "                )\n",
    "                raise JsonRequestError(f\"Erro ao processar JSON: {str(e)}\")\n",
    "\n",
    "            finally:\n",
    "                await browser.close()\n",
    "\n",
    "            return menu_json\n",
    "\n",
    "    except (PlaywrightTimeoutError, MenuRequestNotFoundError, JsonRequestError) as e:\n",
    "        print(f\"  ERRO durante a tentativa: {str(e)}. Tentando novamente...\")\n",
    "        raise  # Relanço a exceção para que o retry funcione\n",
    "\n",
    "    except Exception as e:\n",
    "        print(f\"  ERRO inesperado: {str(e)}\")\n",
    "        return None"
   ]
  },
  {
   "cell_type": "code",
   "execution_count": 175,
   "id": "b3a0a122-4fc3-4bef-b755-7c6f2629119a",
   "metadata": {
    "execution": {
     "iopub.execute_input": "2025-05-06T05:12:43.740634Z",
     "iopub.status.busy": "2025-05-06T05:12:43.740383Z",
     "iopub.status.idle": "2025-05-06T05:12:43.746527Z",
     "shell.execute_reply": "2025-05-06T05:12:43.745669Z",
     "shell.execute_reply.started": "2025-05-06T05:12:43.740617Z"
    }
   },
   "outputs": [],
   "source": [
    "async def save_to_json(data: Dict, filename: str):\n",
    "    \"\"\"\n",
    "    Salva ou atualiza os dados no arquivo JSON.\n",
    "\n",
    "    Args:\n",
    "        data: Dicionário com os dados a serem salvos\n",
    "        filename: Nome do arquivo JSON\n",
    "    \"\"\"\n",
    "    try:\n",
    "        # Verificar se o arquivo já existe\n",
    "        if os.path.exists(filename):\n",
    "            # Carregar o conteúdo existente\n",
    "            with open(filename, \"r\", encoding=\"utf-8\") as f:\n",
    "                try:\n",
    "                    existing_data = json.load(f)\n",
    "                except json.JSONDecodeError:\n",
    "                    print(\n",
    "                        f\"Erro ao carregar o arquivo JSON existente. Criando novo arquivo.\"\n",
    "                    )\n",
    "                    existing_data = {}\n",
    "        else:\n",
    "            existing_data = {}\n",
    "\n",
    "        # Atualizar com os novos dados\n",
    "        existing_data.update(data)\n",
    "\n",
    "        # Salvar o arquivo atualizado\n",
    "        with open(filename, \"w\", encoding=\"utf-8\") as f:\n",
    "            json.dump(existing_data, f, ensure_ascii=False, indent=2)\n",
    "\n",
    "    except Exception as e:\n",
    "        print(f\"ERRO ao salvar dados no arquivo JSON: {str(e)}\")"
   ]
  },
  {
   "cell_type": "code",
   "execution_count": 176,
   "id": "b9f9a925-5c9d-4a4f-addd-bc18bae200e0",
   "metadata": {
    "execution": {
     "iopub.execute_input": "2025-05-06T05:12:44.677833Z",
     "iopub.status.busy": "2025-05-06T05:12:44.677531Z",
     "iopub.status.idle": "2025-05-06T05:12:44.684717Z",
     "shell.execute_reply": "2025-05-06T05:12:44.684254Z",
     "shell.execute_reply.started": "2025-05-06T05:12:44.677814Z"
    }
   },
   "outputs": [],
   "source": [
    "async def process_urls(list_urls: List[str], output_file: str = \"menu_data.json\"):\n",
    "    \"\"\"\n",
    "    Processa uma lista de URLs e salva os resultados.\n",
    "\n",
    "    Args:\n",
    "        list_urls: Lista de URLs a serem processadas\n",
    "        output_file: Nome do arquivo de saída\n",
    "    \"\"\"\n",
    "    total_urls = len(list_urls)\n",
    "    processed = 0\n",
    "    failed = 0\n",
    "\n",
    "    print(f\"Iniciando processamento de {total_urls} URLs...\")\n",
    "\n",
    "    for count, url in enumerate(list_urls):\n",
    "        try:\n",
    "            # Tenta obter as informações do menu\n",
    "            menu_info = await get_menu_info(url, count)\n",
    "\n",
    "            if menu_info:\n",
    "                # Verificar e definir o ID do portal\n",
    "                portal_ids = [\n",
    "                    item.get(\"portal\") for item in menu_info if \"portal\" in item\n",
    "                ]\n",
    "\n",
    "                if portal_ids and portal_ids[0] is not None:\n",
    "                    idx = portal_ids[0]  # Usa o primeiro ID de portal encontrado\n",
    "                else:\n",
    "                    idx = 2000 + count  # Gera um ID com base no contador\n",
    "                    # Adiciona o ID do portal a todos os itens no menu_info que não têm\n",
    "                    for item in menu_info:\n",
    "                        if \"portal\" not in item:\n",
    "                            item[\"portal\"] = idx\n",
    "\n",
    "                # Preparar os dados para salvar\n",
    "                data = {\n",
    "                    str(idx): menu_info\n",
    "                }  # Converte o idx para string para ser chave no JSON\n",
    "\n",
    "                # Salvar os dados\n",
    "                await save_to_json(data, output_file)\n",
    "\n",
    "                processed += 1\n",
    "                print(f\"[{count + 1}/{total_urls}] Sucesso! ID do portal: {idx}\")\n",
    "            else:\n",
    "                failed += 1\n",
    "                print(f\"[{count + 1}/{total_urls}] Falha ao processar URL: {url}\")\n",
    "\n",
    "        except Exception as e:\n",
    "            failed += 1\n",
    "            print(f\"[{count + 1}/{total_urls}] Erro ao processar URL {url}: {str(e)}\")\n",
    "\n",
    "        # Adicionar uma pausa aleatória entre requisições para evitar detecção\n",
    "        await asyncio.sleep(random.uniform(1, 3))\n",
    "\n",
    "    print(f\"\\nProcessamento concluído!\")\n",
    "    print(f\"Total de URLs: {total_urls}\")\n",
    "    print(f\"Processadas com sucesso: {processed}\")\n",
    "    print(f\"Falhas: {failed}\")"
   ]
  },
  {
   "cell_type": "code",
   "execution_count": 173,
   "id": "1d607c5e-89fa-4c6b-b476-ce9387f48f71",
   "metadata": {
    "execution": {
     "iopub.execute_input": "2025-05-06T05:11:13.033099Z",
     "iopub.status.busy": "2025-05-06T05:11:13.032814Z",
     "iopub.status.idle": "2025-05-06T05:12:16.860556Z",
     "shell.execute_reply": "2025-05-06T05:12:16.859915Z",
     "shell.execute_reply.started": "2025-05-06T05:11:13.033076Z"
    }
   },
   "outputs": [
    {
     "name": "stdout",
     "output_type": "stream",
     "text": [
      "Iniciando processamento de 1090 URLs...\n",
      "\n",
      "[1] Processando URL: https://transparencia.betha.cloud/#/zGMBIFjERq9GoD5qnYNaYQ==\n",
      "[1/1090] Sucesso! ID do portal: 825\n",
      "\n",
      "[2] Processando URL: https://transparencia.betha.cloud/#/SBT3IItGYwyL2QDNqpv59A==\n",
      "[2/1090] Sucesso! ID do portal: 482\n",
      "\n",
      "[3] Processando URL: https://transparencia.betha.cloud/#/qUIvAT_81FdXyxBi2eYEvw==\n",
      "[3/1090] Sucesso! ID do portal: 385\n",
      "\n",
      "[4] Processando URL: https://transparencia.betha.cloud/#/_wWlo-Vmj0VErKUHKggRIg==\n",
      "  ERRO ao processar JSON: Dados JSON inválidos ou vazios\n",
      "  Corpo da resposta (primeiros 100 caracteres): []...\n",
      "  ERRO durante a tentativa: Erro ao processar JSON: Dados JSON inválidos ou vazios. Tentando novamente...\n",
      "\n",
      "[4] Processando URL: https://transparencia.betha.cloud/#/_wWlo-Vmj0VErKUHKggRIg==\n",
      "  ERRO ao processar JSON: Dados JSON inválidos ou vazios\n",
      "  Corpo da resposta (primeiros 100 caracteres): []...\n",
      "  ERRO durante a tentativa: Erro ao processar JSON: Dados JSON inválidos ou vazios. Tentando novamente...\n",
      "\n",
      "[4] Processando URL: https://transparencia.betha.cloud/#/_wWlo-Vmj0VErKUHKggRIg==\n",
      "  ERRO ao processar JSON: Dados JSON inválidos ou vazios\n",
      "  Corpo da resposta (primeiros 100 caracteres): []...\n",
      "  ERRO durante a tentativa: Erro ao processar JSON: Dados JSON inválidos ou vazios. Tentando novamente...\n",
      "\n",
      "[4] Processando URL: https://transparencia.betha.cloud/#/_wWlo-Vmj0VErKUHKggRIg==\n",
      "  ERRO ao processar JSON: Dados JSON inválidos ou vazios\n",
      "  Corpo da resposta (primeiros 100 caracteres): []...\n",
      "  ERRO durante a tentativa: Erro ao processar JSON: Dados JSON inválidos ou vazios. Tentando novamente...\n",
      "\n",
      "[4] Processando URL: https://transparencia.betha.cloud/#/_wWlo-Vmj0VErKUHKggRIg==\n"
     ]
    },
    {
     "ename": "CancelledError",
     "evalue": "",
     "output_type": "error",
     "traceback": [
      "\u001b[0;31m---------------------------------------------------------------------------\u001b[0m",
      "\u001b[0;31mCancelledError\u001b[0m                            Traceback (most recent call last)",
      "Cell \u001b[0;32mIn[173], line 5\u001b[0m\n\u001b[1;32m      1\u001b[0m list_urls \u001b[38;5;241m=\u001b[39m [x[\u001b[38;5;124m\"\u001b[39m\u001b[38;5;124mhomepage\u001b[39m\u001b[38;5;124m\"\u001b[39m] \u001b[38;5;28;01mfor\u001b[39;00m x \u001b[38;5;129;01min\u001b[39;00m portais]\n\u001b[1;32m      3\u001b[0m output_file \u001b[38;5;241m=\u001b[39m \u001b[38;5;124m\"\u001b[39m\u001b[38;5;124mdados-menus-betha.json\u001b[39m\u001b[38;5;124m\"\u001b[39m\n\u001b[0;32m----> 5\u001b[0m \u001b[38;5;28;01mawait\u001b[39;00m process_urls(list_urls, output_file)\n",
      "Cell \u001b[0;32mIn[171], line 18\u001b[0m, in \u001b[0;36mprocess_urls\u001b[0;34m(list_urls, output_file)\u001b[0m\n\u001b[1;32m     15\u001b[0m \u001b[38;5;28;01mfor\u001b[39;00m count, url \u001b[38;5;129;01min\u001b[39;00m \u001b[38;5;28menumerate\u001b[39m(list_urls):\n\u001b[1;32m     16\u001b[0m     \u001b[38;5;28;01mtry\u001b[39;00m:\n\u001b[1;32m     17\u001b[0m         \u001b[38;5;66;03m# Tenta obter as informações do menu\u001b[39;00m\n\u001b[0;32m---> 18\u001b[0m         menu_info \u001b[38;5;241m=\u001b[39m \u001b[38;5;28;01mawait\u001b[39;00m get_menu_info(url, count)\n\u001b[1;32m     20\u001b[0m         \u001b[38;5;28;01mif\u001b[39;00m menu_info:\n\u001b[1;32m     21\u001b[0m             \u001b[38;5;66;03m# Verificar e definir o ID do portal\u001b[39;00m\n\u001b[1;32m     22\u001b[0m             portal_ids \u001b[38;5;241m=\u001b[39m [item\u001b[38;5;241m.\u001b[39mget(\u001b[38;5;124m\"\u001b[39m\u001b[38;5;124mportal\u001b[39m\u001b[38;5;124m\"\u001b[39m) \u001b[38;5;28;01mfor\u001b[39;00m item \u001b[38;5;129;01min\u001b[39;00m menu_info \u001b[38;5;28;01mif\u001b[39;00m \u001b[38;5;124m\"\u001b[39m\u001b[38;5;124mportal\u001b[39m\u001b[38;5;124m\"\u001b[39m \u001b[38;5;129;01min\u001b[39;00m item]\n",
      "File \u001b[0;32m/usr/local/lib/python3.12/site-packages/tenacity/asyncio/__init__.py:189\u001b[0m, in \u001b[0;36mAsyncRetrying.wraps.<locals>.async_wrapped\u001b[0;34m(*args, **kwargs)\u001b[0m\n\u001b[1;32m    187\u001b[0m copy \u001b[38;5;241m=\u001b[39m \u001b[38;5;28mself\u001b[39m\u001b[38;5;241m.\u001b[39mcopy()\n\u001b[1;32m    188\u001b[0m async_wrapped\u001b[38;5;241m.\u001b[39mstatistics \u001b[38;5;241m=\u001b[39m copy\u001b[38;5;241m.\u001b[39mstatistics  \u001b[38;5;66;03m# type: ignore[attr-defined]\u001b[39;00m\n\u001b[0;32m--> 189\u001b[0m \u001b[38;5;28;01mreturn\u001b[39;00m \u001b[38;5;28;01mawait\u001b[39;00m copy(fn, \u001b[38;5;241m*\u001b[39margs, \u001b[38;5;241m*\u001b[39m\u001b[38;5;241m*\u001b[39mkwargs)\n",
      "File \u001b[0;32m/usr/local/lib/python3.12/site-packages/tenacity/asyncio/__init__.py:111\u001b[0m, in \u001b[0;36mAsyncRetrying.__call__\u001b[0;34m(self, fn, *args, **kwargs)\u001b[0m\n\u001b[1;32m    109\u001b[0m retry_state \u001b[38;5;241m=\u001b[39m RetryCallState(retry_object\u001b[38;5;241m=\u001b[39m\u001b[38;5;28mself\u001b[39m, fn\u001b[38;5;241m=\u001b[39mfn, args\u001b[38;5;241m=\u001b[39margs, kwargs\u001b[38;5;241m=\u001b[39mkwargs)\n\u001b[1;32m    110\u001b[0m \u001b[38;5;28;01mwhile\u001b[39;00m \u001b[38;5;28;01mTrue\u001b[39;00m:\n\u001b[0;32m--> 111\u001b[0m     do \u001b[38;5;241m=\u001b[39m \u001b[38;5;28;01mawait\u001b[39;00m \u001b[38;5;28mself\u001b[39m\u001b[38;5;241m.\u001b[39miter(retry_state\u001b[38;5;241m=\u001b[39mretry_state)\n\u001b[1;32m    112\u001b[0m     \u001b[38;5;28;01mif\u001b[39;00m \u001b[38;5;28misinstance\u001b[39m(do, DoAttempt):\n\u001b[1;32m    113\u001b[0m         \u001b[38;5;28;01mtry\u001b[39;00m:\n",
      "File \u001b[0;32m/usr/local/lib/python3.12/site-packages/tenacity/asyncio/__init__.py:153\u001b[0m, in \u001b[0;36mAsyncRetrying.iter\u001b[0;34m(self, retry_state)\u001b[0m\n\u001b[1;32m    151\u001b[0m result \u001b[38;5;241m=\u001b[39m \u001b[38;5;28;01mNone\u001b[39;00m\n\u001b[1;32m    152\u001b[0m \u001b[38;5;28;01mfor\u001b[39;00m action \u001b[38;5;129;01min\u001b[39;00m \u001b[38;5;28mself\u001b[39m\u001b[38;5;241m.\u001b[39miter_state\u001b[38;5;241m.\u001b[39mactions:\n\u001b[0;32m--> 153\u001b[0m     result \u001b[38;5;241m=\u001b[39m \u001b[38;5;28;01mawait\u001b[39;00m action(retry_state)\n\u001b[1;32m    154\u001b[0m \u001b[38;5;28;01mreturn\u001b[39;00m result\n",
      "File \u001b[0;32m/usr/local/lib/python3.12/site-packages/tenacity/_utils.py:99\u001b[0m, in \u001b[0;36mwrap_to_async_func.<locals>.inner\u001b[0;34m(*args, **kwargs)\u001b[0m\n\u001b[1;32m     98\u001b[0m \u001b[38;5;28;01masync\u001b[39;00m \u001b[38;5;28;01mdef\u001b[39;00m\u001b[38;5;250m \u001b[39m\u001b[38;5;21minner\u001b[39m(\u001b[38;5;241m*\u001b[39margs: typing\u001b[38;5;241m.\u001b[39mAny, \u001b[38;5;241m*\u001b[39m\u001b[38;5;241m*\u001b[39mkwargs: typing\u001b[38;5;241m.\u001b[39mAny) \u001b[38;5;241m-\u001b[39m\u001b[38;5;241m>\u001b[39m typing\u001b[38;5;241m.\u001b[39mAny:\n\u001b[0;32m---> 99\u001b[0m     \u001b[38;5;28;01mreturn\u001b[39;00m \u001b[43mcall\u001b[49m\u001b[43m(\u001b[49m\u001b[38;5;241;43m*\u001b[39;49m\u001b[43margs\u001b[49m\u001b[43m,\u001b[49m\u001b[43m \u001b[49m\u001b[38;5;241;43m*\u001b[39;49m\u001b[38;5;241;43m*\u001b[39;49m\u001b[43mkwargs\u001b[49m\u001b[43m)\u001b[49m\n",
      "File \u001b[0;32m/usr/local/lib/python3.12/site-packages/tenacity/__init__.py:400\u001b[0m, in \u001b[0;36mBaseRetrying._post_retry_check_actions.<locals>.<lambda>\u001b[0;34m(rs)\u001b[0m\n\u001b[1;32m    398\u001b[0m \u001b[38;5;28;01mdef\u001b[39;00m\u001b[38;5;250m \u001b[39m\u001b[38;5;21m_post_retry_check_actions\u001b[39m(\u001b[38;5;28mself\u001b[39m, retry_state: \u001b[38;5;124m\"\u001b[39m\u001b[38;5;124mRetryCallState\u001b[39m\u001b[38;5;124m\"\u001b[39m) \u001b[38;5;241m-\u001b[39m\u001b[38;5;241m>\u001b[39m \u001b[38;5;28;01mNone\u001b[39;00m:\n\u001b[1;32m    399\u001b[0m     \u001b[38;5;28;01mif\u001b[39;00m \u001b[38;5;129;01mnot\u001b[39;00m (\u001b[38;5;28mself\u001b[39m\u001b[38;5;241m.\u001b[39miter_state\u001b[38;5;241m.\u001b[39mis_explicit_retry \u001b[38;5;129;01mor\u001b[39;00m \u001b[38;5;28mself\u001b[39m\u001b[38;5;241m.\u001b[39miter_state\u001b[38;5;241m.\u001b[39mretry_run_result):\n\u001b[0;32m--> 400\u001b[0m         \u001b[38;5;28mself\u001b[39m\u001b[38;5;241m.\u001b[39m_add_action_func(\u001b[38;5;28;01mlambda\u001b[39;00m rs: \u001b[43mrs\u001b[49m\u001b[38;5;241;43m.\u001b[39;49m\u001b[43moutcome\u001b[49m\u001b[38;5;241;43m.\u001b[39;49m\u001b[43mresult\u001b[49m\u001b[43m(\u001b[49m\u001b[43m)\u001b[49m)\n\u001b[1;32m    401\u001b[0m         \u001b[38;5;28;01mreturn\u001b[39;00m\n\u001b[1;32m    403\u001b[0m     \u001b[38;5;28;01mif\u001b[39;00m \u001b[38;5;28mself\u001b[39m\u001b[38;5;241m.\u001b[39mafter \u001b[38;5;129;01mis\u001b[39;00m \u001b[38;5;129;01mnot\u001b[39;00m \u001b[38;5;28;01mNone\u001b[39;00m:\n",
      "File \u001b[0;32m/usr/local/lib/python3.12/concurrent/futures/_base.py:449\u001b[0m, in \u001b[0;36mFuture.result\u001b[0;34m(self, timeout)\u001b[0m\n\u001b[1;32m    447\u001b[0m     \u001b[38;5;28;01mraise\u001b[39;00m CancelledError()\n\u001b[1;32m    448\u001b[0m \u001b[38;5;28;01melif\u001b[39;00m \u001b[38;5;28mself\u001b[39m\u001b[38;5;241m.\u001b[39m_state \u001b[38;5;241m==\u001b[39m FINISHED:\n\u001b[0;32m--> 449\u001b[0m     \u001b[38;5;28;01mreturn\u001b[39;00m \u001b[38;5;28;43mself\u001b[39;49m\u001b[38;5;241;43m.\u001b[39;49m\u001b[43m__get_result\u001b[49m\u001b[43m(\u001b[49m\u001b[43m)\u001b[49m\n\u001b[1;32m    451\u001b[0m \u001b[38;5;28mself\u001b[39m\u001b[38;5;241m.\u001b[39m_condition\u001b[38;5;241m.\u001b[39mwait(timeout)\n\u001b[1;32m    453\u001b[0m \u001b[38;5;28;01mif\u001b[39;00m \u001b[38;5;28mself\u001b[39m\u001b[38;5;241m.\u001b[39m_state \u001b[38;5;129;01min\u001b[39;00m [CANCELLED, CANCELLED_AND_NOTIFIED]:\n",
      "File \u001b[0;32m/usr/local/lib/python3.12/concurrent/futures/_base.py:401\u001b[0m, in \u001b[0;36mFuture.__get_result\u001b[0;34m(self)\u001b[0m\n\u001b[1;32m    399\u001b[0m \u001b[38;5;28;01mif\u001b[39;00m \u001b[38;5;28mself\u001b[39m\u001b[38;5;241m.\u001b[39m_exception:\n\u001b[1;32m    400\u001b[0m     \u001b[38;5;28;01mtry\u001b[39;00m:\n\u001b[0;32m--> 401\u001b[0m         \u001b[38;5;28;01mraise\u001b[39;00m \u001b[38;5;28mself\u001b[39m\u001b[38;5;241m.\u001b[39m_exception\n\u001b[1;32m    402\u001b[0m     \u001b[38;5;28;01mfinally\u001b[39;00m:\n\u001b[1;32m    403\u001b[0m         \u001b[38;5;66;03m# Break a reference cycle with the exception in self._exception\u001b[39;00m\n\u001b[1;32m    404\u001b[0m         \u001b[38;5;28mself\u001b[39m \u001b[38;5;241m=\u001b[39m \u001b[38;5;28;01mNone\u001b[39;00m\n",
      "File \u001b[0;32m/usr/local/lib/python3.12/site-packages/tenacity/asyncio/__init__.py:114\u001b[0m, in \u001b[0;36mAsyncRetrying.__call__\u001b[0;34m(self, fn, *args, **kwargs)\u001b[0m\n\u001b[1;32m    112\u001b[0m \u001b[38;5;28;01mif\u001b[39;00m \u001b[38;5;28misinstance\u001b[39m(do, DoAttempt):\n\u001b[1;32m    113\u001b[0m     \u001b[38;5;28;01mtry\u001b[39;00m:\n\u001b[0;32m--> 114\u001b[0m         result \u001b[38;5;241m=\u001b[39m \u001b[38;5;28;01mawait\u001b[39;00m fn(\u001b[38;5;241m*\u001b[39margs, \u001b[38;5;241m*\u001b[39m\u001b[38;5;241m*\u001b[39mkwargs)\n\u001b[1;32m    115\u001b[0m     \u001b[38;5;28;01mexcept\u001b[39;00m \u001b[38;5;167;01mBaseException\u001b[39;00m:  \u001b[38;5;66;03m# noqa: B902\u001b[39;00m\n\u001b[1;32m    116\u001b[0m         retry_state\u001b[38;5;241m.\u001b[39mset_exception(sys\u001b[38;5;241m.\u001b[39mexc_info())  \u001b[38;5;66;03m# type: ignore[arg-type]\u001b[39;00m\n",
      "Cell \u001b[0;32mIn[169], line 49\u001b[0m, in \u001b[0;36mget_menu_info\u001b[0;34m(url, count)\u001b[0m\n\u001b[1;32m     46\u001b[0m page \u001b[38;5;241m=\u001b[39m \u001b[38;5;28;01mawait\u001b[39;00m set_page(context)\n\u001b[1;32m     48\u001b[0m page\u001b[38;5;241m.\u001b[39mon(\u001b[38;5;124m\"\u001b[39m\u001b[38;5;124mresponse\u001b[39m\u001b[38;5;124m\"\u001b[39m, handle_response)\n\u001b[0;32m---> 49\u001b[0m \u001b[38;5;28;01mawait\u001b[39;00m page\u001b[38;5;241m.\u001b[39mgoto(url, wait_until\u001b[38;5;241m=\u001b[39m\u001b[38;5;124m\"\u001b[39m\u001b[38;5;124mnetworkidle\u001b[39m\u001b[38;5;124m\"\u001b[39m, timeout\u001b[38;5;241m=\u001b[39m\u001b[38;5;241m60000\u001b[39m)\n\u001b[1;32m     50\u001b[0m \u001b[38;5;28;01mawait\u001b[39;00m do_movements(page)\n\u001b[1;32m     51\u001b[0m menu_requests \u001b[38;5;241m=\u001b[39m [resp \u001b[38;5;28;01mfor\u001b[39;00m resp \u001b[38;5;129;01min\u001b[39;00m responses_list \u001b[38;5;28;01mif\u001b[39;00m \u001b[38;5;124m\"\u001b[39m\u001b[38;5;124m/menu\u001b[39m\u001b[38;5;124m\"\u001b[39m \u001b[38;5;129;01min\u001b[39;00m resp\u001b[38;5;241m.\u001b[39murl]\n",
      "File \u001b[0;32m/usr/local/lib/python3.12/site-packages/playwright/async_api/_generated.py:8969\u001b[0m, in \u001b[0;36mPage.goto\u001b[0;34m(self, url, timeout, wait_until, referer)\u001b[0m\n\u001b[1;32m   8908\u001b[0m \u001b[38;5;28;01masync\u001b[39;00m \u001b[38;5;28;01mdef\u001b[39;00m\u001b[38;5;250m \u001b[39m\u001b[38;5;21mgoto\u001b[39m(\n\u001b[1;32m   8909\u001b[0m     \u001b[38;5;28mself\u001b[39m,\n\u001b[1;32m   8910\u001b[0m     url: \u001b[38;5;28mstr\u001b[39m,\n\u001b[0;32m   (...)\u001b[0m\n\u001b[1;32m   8916\u001b[0m     referer: typing\u001b[38;5;241m.\u001b[39mOptional[\u001b[38;5;28mstr\u001b[39m] \u001b[38;5;241m=\u001b[39m \u001b[38;5;28;01mNone\u001b[39;00m\n\u001b[1;32m   8917\u001b[0m ) \u001b[38;5;241m-\u001b[39m\u001b[38;5;241m>\u001b[39m typing\u001b[38;5;241m.\u001b[39mOptional[\u001b[38;5;124m\"\u001b[39m\u001b[38;5;124mResponse\u001b[39m\u001b[38;5;124m\"\u001b[39m]:\n\u001b[1;32m   8918\u001b[0m \u001b[38;5;250m    \u001b[39m\u001b[38;5;124;03m\"\"\"Page.goto\u001b[39;00m\n\u001b[1;32m   8919\u001b[0m \n\u001b[1;32m   8920\u001b[0m \u001b[38;5;124;03m    Returns the main resource response. In case of multiple redirects, the navigation will resolve with the first\u001b[39;00m\n\u001b[0;32m   (...)\u001b[0m\n\u001b[1;32m   8965\u001b[0m \u001b[38;5;124;03m    Union[Response, None]\u001b[39;00m\n\u001b[1;32m   8966\u001b[0m \u001b[38;5;124;03m    \"\"\"\u001b[39;00m\n\u001b[1;32m   8968\u001b[0m     \u001b[38;5;28;01mreturn\u001b[39;00m mapping\u001b[38;5;241m.\u001b[39mfrom_impl_nullable(\n\u001b[0;32m-> 8969\u001b[0m         \u001b[38;5;28;01mawait\u001b[39;00m \u001b[38;5;28mself\u001b[39m\u001b[38;5;241m.\u001b[39m_impl_obj\u001b[38;5;241m.\u001b[39mgoto(\n\u001b[1;32m   8970\u001b[0m             url\u001b[38;5;241m=\u001b[39murl, timeout\u001b[38;5;241m=\u001b[39mtimeout, waitUntil\u001b[38;5;241m=\u001b[39mwait_until, referer\u001b[38;5;241m=\u001b[39mreferer\n\u001b[1;32m   8971\u001b[0m         )\n\u001b[1;32m   8972\u001b[0m     )\n",
      "File \u001b[0;32m/usr/local/lib/python3.12/site-packages/playwright/_impl/_page.py:553\u001b[0m, in \u001b[0;36mPage.goto\u001b[0;34m(self, url, timeout, waitUntil, referer)\u001b[0m\n\u001b[1;32m    546\u001b[0m \u001b[38;5;28;01masync\u001b[39;00m \u001b[38;5;28;01mdef\u001b[39;00m\u001b[38;5;250m \u001b[39m\u001b[38;5;21mgoto\u001b[39m(\n\u001b[1;32m    547\u001b[0m     \u001b[38;5;28mself\u001b[39m,\n\u001b[1;32m    548\u001b[0m     url: \u001b[38;5;28mstr\u001b[39m,\n\u001b[0;32m   (...)\u001b[0m\n\u001b[1;32m    551\u001b[0m     referer: \u001b[38;5;28mstr\u001b[39m \u001b[38;5;241m=\u001b[39m \u001b[38;5;28;01mNone\u001b[39;00m,\n\u001b[1;32m    552\u001b[0m ) \u001b[38;5;241m-\u001b[39m\u001b[38;5;241m>\u001b[39m Optional[Response]:\n\u001b[0;32m--> 553\u001b[0m     \u001b[38;5;28;01mreturn\u001b[39;00m \u001b[38;5;28;01mawait\u001b[39;00m \u001b[38;5;28mself\u001b[39m\u001b[38;5;241m.\u001b[39m_main_frame\u001b[38;5;241m.\u001b[39mgoto(\u001b[38;5;241m*\u001b[39m\u001b[38;5;241m*\u001b[39mlocals_to_params(\u001b[38;5;28mlocals\u001b[39m()))\n",
      "File \u001b[0;32m/usr/local/lib/python3.12/site-packages/playwright/_impl/_frame.py:145\u001b[0m, in \u001b[0;36mFrame.goto\u001b[0;34m(self, url, timeout, waitUntil, referer)\u001b[0m\n\u001b[1;32m    135\u001b[0m \u001b[38;5;28;01masync\u001b[39;00m \u001b[38;5;28;01mdef\u001b[39;00m\u001b[38;5;250m \u001b[39m\u001b[38;5;21mgoto\u001b[39m(\n\u001b[1;32m    136\u001b[0m     \u001b[38;5;28mself\u001b[39m,\n\u001b[1;32m    137\u001b[0m     url: \u001b[38;5;28mstr\u001b[39m,\n\u001b[0;32m   (...)\u001b[0m\n\u001b[1;32m    140\u001b[0m     referer: \u001b[38;5;28mstr\u001b[39m \u001b[38;5;241m=\u001b[39m \u001b[38;5;28;01mNone\u001b[39;00m,\n\u001b[1;32m    141\u001b[0m ) \u001b[38;5;241m-\u001b[39m\u001b[38;5;241m>\u001b[39m Optional[Response]:\n\u001b[1;32m    142\u001b[0m     \u001b[38;5;28;01mreturn\u001b[39;00m cast(\n\u001b[1;32m    143\u001b[0m         Optional[Response],\n\u001b[1;32m    144\u001b[0m         from_nullable_channel(\n\u001b[0;32m--> 145\u001b[0m             \u001b[38;5;28;01mawait\u001b[39;00m \u001b[38;5;28mself\u001b[39m\u001b[38;5;241m.\u001b[39m_channel\u001b[38;5;241m.\u001b[39msend(\u001b[38;5;124m\"\u001b[39m\u001b[38;5;124mgoto\u001b[39m\u001b[38;5;124m\"\u001b[39m, locals_to_params(\u001b[38;5;28mlocals\u001b[39m()))\n\u001b[1;32m    146\u001b[0m         ),\n\u001b[1;32m    147\u001b[0m     )\n",
      "File \u001b[0;32m/usr/local/lib/python3.12/site-packages/playwright/_impl/_connection.py:59\u001b[0m, in \u001b[0;36mChannel.send\u001b[0;34m(self, method, params)\u001b[0m\n\u001b[1;32m     58\u001b[0m \u001b[38;5;28;01masync\u001b[39;00m \u001b[38;5;28;01mdef\u001b[39;00m\u001b[38;5;250m \u001b[39m\u001b[38;5;21msend\u001b[39m(\u001b[38;5;28mself\u001b[39m, method: \u001b[38;5;28mstr\u001b[39m, params: Dict \u001b[38;5;241m=\u001b[39m \u001b[38;5;28;01mNone\u001b[39;00m) \u001b[38;5;241m-\u001b[39m\u001b[38;5;241m>\u001b[39m Any:\n\u001b[0;32m---> 59\u001b[0m     \u001b[38;5;28;01mreturn\u001b[39;00m \u001b[38;5;28;01mawait\u001b[39;00m \u001b[38;5;28mself\u001b[39m\u001b[38;5;241m.\u001b[39m_connection\u001b[38;5;241m.\u001b[39mwrap_api_call(\n\u001b[1;32m     60\u001b[0m         \u001b[38;5;28;01mlambda\u001b[39;00m: \u001b[38;5;28mself\u001b[39m\u001b[38;5;241m.\u001b[39minner_send(method, params, \u001b[38;5;28;01mFalse\u001b[39;00m)\n\u001b[1;32m     61\u001b[0m     )\n",
      "File \u001b[0;32m/usr/local/lib/python3.12/site-packages/playwright/_impl/_connection.py:518\u001b[0m, in \u001b[0;36mConnection.wrap_api_call\u001b[0;34m(self, cb, is_internal)\u001b[0m\n\u001b[1;32m    516\u001b[0m \u001b[38;5;28mself\u001b[39m\u001b[38;5;241m.\u001b[39m_api_zone\u001b[38;5;241m.\u001b[39mset(parsed_st)\n\u001b[1;32m    517\u001b[0m \u001b[38;5;28;01mtry\u001b[39;00m:\n\u001b[0;32m--> 518\u001b[0m     \u001b[38;5;28;01mreturn\u001b[39;00m \u001b[38;5;28;01mawait\u001b[39;00m cb()\n\u001b[1;32m    519\u001b[0m \u001b[38;5;28;01mexcept\u001b[39;00m \u001b[38;5;167;01mException\u001b[39;00m \u001b[38;5;28;01mas\u001b[39;00m error:\n\u001b[1;32m    520\u001b[0m     \u001b[38;5;28;01mraise\u001b[39;00m rewrite_error(error, \u001b[38;5;124mf\u001b[39m\u001b[38;5;124m\"\u001b[39m\u001b[38;5;132;01m{\u001b[39;00mparsed_st[\u001b[38;5;124m'\u001b[39m\u001b[38;5;124mapiName\u001b[39m\u001b[38;5;124m'\u001b[39m]\u001b[38;5;132;01m}\u001b[39;00m\u001b[38;5;124m: \u001b[39m\u001b[38;5;132;01m{\u001b[39;00merror\u001b[38;5;132;01m}\u001b[39;00m\u001b[38;5;124m\"\u001b[39m) \u001b[38;5;28;01mfrom\u001b[39;00m\u001b[38;5;250m \u001b[39m\u001b[38;5;28;01mNone\u001b[39;00m\n",
      "File \u001b[0;32m/usr/local/lib/python3.12/site-packages/playwright/_impl/_connection.py:88\u001b[0m, in \u001b[0;36mChannel.inner_send\u001b[0;34m(self, method, params, return_as_dict)\u001b[0m\n\u001b[1;32m     84\u001b[0m     \u001b[38;5;28;01mraise\u001b[39;00m error\n\u001b[1;32m     85\u001b[0m callback \u001b[38;5;241m=\u001b[39m \u001b[38;5;28mself\u001b[39m\u001b[38;5;241m.\u001b[39m_connection\u001b[38;5;241m.\u001b[39m_send_message_to_server(\n\u001b[1;32m     86\u001b[0m     \u001b[38;5;28mself\u001b[39m\u001b[38;5;241m.\u001b[39m_object, method, _filter_none(params)\n\u001b[1;32m     87\u001b[0m )\n\u001b[0;32m---> 88\u001b[0m done, _ \u001b[38;5;241m=\u001b[39m \u001b[38;5;28;01mawait\u001b[39;00m asyncio\u001b[38;5;241m.\u001b[39mwait(\n\u001b[1;32m     89\u001b[0m     {\n\u001b[1;32m     90\u001b[0m         \u001b[38;5;28mself\u001b[39m\u001b[38;5;241m.\u001b[39m_connection\u001b[38;5;241m.\u001b[39m_transport\u001b[38;5;241m.\u001b[39mon_error_future,\n\u001b[1;32m     91\u001b[0m         callback\u001b[38;5;241m.\u001b[39mfuture,\n\u001b[1;32m     92\u001b[0m     },\n\u001b[1;32m     93\u001b[0m     return_when\u001b[38;5;241m=\u001b[39masyncio\u001b[38;5;241m.\u001b[39mFIRST_COMPLETED,\n\u001b[1;32m     94\u001b[0m )\n\u001b[1;32m     95\u001b[0m \u001b[38;5;28;01mif\u001b[39;00m \u001b[38;5;129;01mnot\u001b[39;00m callback\u001b[38;5;241m.\u001b[39mfuture\u001b[38;5;241m.\u001b[39mdone():\n\u001b[1;32m     96\u001b[0m     callback\u001b[38;5;241m.\u001b[39mfuture\u001b[38;5;241m.\u001b[39mcancel()\n",
      "File \u001b[0;32m/usr/local/lib/python3.12/asyncio/tasks.py:464\u001b[0m, in \u001b[0;36mwait\u001b[0;34m(fs, timeout, return_when)\u001b[0m\n\u001b[1;32m    461\u001b[0m     \u001b[38;5;28;01mraise\u001b[39;00m \u001b[38;5;167;01mTypeError\u001b[39;00m(\u001b[38;5;124m\"\u001b[39m\u001b[38;5;124mPassing coroutines is forbidden, use tasks explicitly.\u001b[39m\u001b[38;5;124m\"\u001b[39m)\n\u001b[1;32m    463\u001b[0m loop \u001b[38;5;241m=\u001b[39m events\u001b[38;5;241m.\u001b[39mget_running_loop()\n\u001b[0;32m--> 464\u001b[0m \u001b[38;5;28;01mreturn\u001b[39;00m \u001b[38;5;28;01mawait\u001b[39;00m _wait(fs, timeout, return_when, loop)\n",
      "File \u001b[0;32m/usr/local/lib/python3.12/asyncio/tasks.py:550\u001b[0m, in \u001b[0;36m_wait\u001b[0;34m(fs, timeout, return_when, loop)\u001b[0m\n\u001b[1;32m    547\u001b[0m     f\u001b[38;5;241m.\u001b[39madd_done_callback(_on_completion)\n\u001b[1;32m    549\u001b[0m \u001b[38;5;28;01mtry\u001b[39;00m:\n\u001b[0;32m--> 550\u001b[0m     \u001b[38;5;28;01mawait\u001b[39;00m waiter\n\u001b[1;32m    551\u001b[0m \u001b[38;5;28;01mfinally\u001b[39;00m:\n\u001b[1;32m    552\u001b[0m     \u001b[38;5;28;01mif\u001b[39;00m timeout_handle \u001b[38;5;129;01mis\u001b[39;00m \u001b[38;5;129;01mnot\u001b[39;00m \u001b[38;5;28;01mNone\u001b[39;00m:\n",
      "\u001b[0;31mCancelledError\u001b[0m: "
     ]
    }
   ],
   "source": [
    "list_urls = [x[\"homepage\"] for x in portais]\n",
    "\n",
    "output_file = \"dados-menus-betha.json\"\n",
    "\n",
    "await process_urls(list_urls, output_file)"
   ]
  },
  {
   "cell_type": "code",
   "execution_count": 167,
   "id": "64f536cf-2a11-409d-8e78-40bf8f9dc6f4",
   "metadata": {
    "execution": {
     "iopub.execute_input": "2025-05-06T05:08:45.258772Z",
     "iopub.status.busy": "2025-05-06T05:08:45.258276Z",
     "iopub.status.idle": "2025-05-06T05:08:45.260630Z",
     "shell.execute_reply": "2025-05-06T05:08:45.260330Z",
     "shell.execute_reply.started": "2025-05-06T05:08:45.258750Z"
    }
   },
   "outputs": [],
   "source": [
    "import os"
   ]
  },
  {
   "cell_type": "code",
   "execution_count": 139,
   "id": "9227353e-f0a0-42b8-bb20-6075a91a16b4",
   "metadata": {
    "execution": {
     "iopub.execute_input": "2025-05-06T04:51:58.414200Z",
     "iopub.status.busy": "2025-05-06T04:51:58.413851Z",
     "iopub.status.idle": "2025-05-06T04:51:58.420243Z",
     "shell.execute_reply": "2025-05-06T04:51:58.419596Z",
     "shell.execute_reply.started": "2025-05-06T04:51:58.414170Z"
    }
   },
   "outputs": [],
   "source": [
    "import asyncio\n",
    "from playwright.async_api import async_playwright\n",
    "from typing import List, Dict, Any\n",
    "\n",
    "url = \"https://transparencia.betha.cloud/#/UnsG5XuuoBixbrD6_V-FpA==\"\n",
    "\n",
    "\n",
    "async def get_menu_info(url):\n",
    "    responses_list: List[Dict[str, Any]] = []\n",
    "\n",
    "    def handle_response(response):\n",
    "        condition = (\n",
    "            (response.status == 200)\n",
    "            & (response.url[-3:] != \".js\")\n",
    "            & (response.url[-4:] != \".css\")\n",
    "            & (response.url[-4:] != \".ttf\")\n",
    "            & (response.url[-4:] != \".svg\")\n",
    "            & (response.url[-4:] != \".png\")\n",
    "            & (response.url[-4:] != \".jpg\")\n",
    "            & (\".js?\" not in response.url)\n",
    "            & (\".woff\" not in response.url)\n",
    "        )\n",
    "\n",
    "        if condition:\n",
    "            responses_list.append(response)\n",
    "\n",
    "    async with async_playwright() as playwright:\n",
    "        browser = await set_browser(playwright, engine=\"random\")\n",
    "        context = await set_context(browser)\n",
    "        page = await set_page(context)\n",
    "\n",
    "        page.on(\"response\", handle_response)\n",
    "\n",
    "        await page.goto(url, wait_until=\"networkidle\")\n",
    "\n",
    "        await do_movements(page)\n",
    "\n",
    "        menu_request = [resp for resp in responses_list if \"/menu\" in resp.url][0]\n",
    "        menu_json = await menu_request.json()\n",
    "\n",
    "    return menu_json"
   ]
  },
  {
   "cell_type": "code",
   "execution_count": 140,
   "id": "d1d7250b-53a8-4ce7-ae83-d13ebda1b7ff",
   "metadata": {
    "execution": {
     "iopub.execute_input": "2025-05-06T04:52:33.320723Z",
     "iopub.status.busy": "2025-05-06T04:52:33.320457Z",
     "iopub.status.idle": "2025-05-06T04:52:40.727635Z",
     "shell.execute_reply": "2025-05-06T04:52:40.727349Z",
     "shell.execute_reply.started": "2025-05-06T04:52:33.320701Z"
    }
   },
   "outputs": [],
   "source": [
    "url = \"https://transparencia.betha.cloud/#/UnsG5XuuoBixbrD6_V-FpA==\"\n",
    "menu_info = await get_menu_info(url)"
   ]
  },
  {
   "cell_type": "code",
   "execution_count": null,
   "id": "158cd098-e4cb-4d55-9757-3e6bdc04e4ea",
   "metadata": {},
   "outputs": [],
   "source": []
  },
  {
   "cell_type": "code",
   "execution_count": 146,
   "id": "d4fa1d73-d433-4501-9f98-738340804ebd",
   "metadata": {
    "execution": {
     "iopub.execute_input": "2025-05-06T04:55:23.718163Z",
     "iopub.status.busy": "2025-05-06T04:55:23.717949Z",
     "iopub.status.idle": "2025-05-06T04:55:23.721826Z",
     "shell.execute_reply": "2025-05-06T04:55:23.721287Z",
     "shell.execute_reply.started": "2025-05-06T04:55:23.718149Z"
    }
   },
   "outputs": [
    {
     "data": {
      "text/plain": [
       "{'id': 56148,\n",
       " 'nome': 'Servidores',\n",
       " 'padrao': False,\n",
       " 'ordem': 0,\n",
       " 'icone': 'font-awesome-building-user tx__blue--l30',\n",
       " 'descricao': 'Informações sobre os servidores públicos da Câmara',\n",
       " 'portal': 1053,\n",
       " 'consultas': [{'id': 97238,\n",
       "   'titulo': 'Cargos e Vencimentos',\n",
       "   'exibeDadosAbertos': True,\n",
       "   'tipo': 'CONSULTA_PADRAO',\n",
       "   'url': None},\n",
       "  {'id': 97290,\n",
       "   'titulo': 'Estagiários',\n",
       "   'exibeDadosAbertos': True,\n",
       "   'tipo': 'CONSULTA_PADRAO',\n",
       "   'url': None},\n",
       "  {'id': 97283,\n",
       "   'titulo': 'Folha de Pagamento',\n",
       "   'exibeDadosAbertos': False,\n",
       "   'tipo': 'AGRUPADOR',\n",
       "   'url': None},\n",
       "  {'id': 97255,\n",
       "   'titulo': 'Servidores Cedidos/Recebidos',\n",
       "   'exibeDadosAbertos': False,\n",
       "   'tipo': 'CONSULTA_PADRAO',\n",
       "   'url': None},\n",
       "  {'id': 97261,\n",
       "   'titulo': 'Servidores e Remunerações',\n",
       "   'exibeDadosAbertos': False,\n",
       "   'tipo': 'CONSULTA_PADRAO',\n",
       "   'url': None},\n",
       "  {'id': 97250,\n",
       "   'titulo': 'Servidores Públicos',\n",
       "   'exibeDadosAbertos': False,\n",
       "   'tipo': 'CONSULTA_PADRAO',\n",
       "   'url': None},\n",
       "  {'id': 97252,\n",
       "   'titulo': 'Servidores Públicos Ativos',\n",
       "   'exibeDadosAbertos': False,\n",
       "   'tipo': 'CONSULTA_PADRAO',\n",
       "   'url': None}],\n",
       " 'subMenus': []}"
      ]
     },
     "execution_count": 146,
     "metadata": {},
     "output_type": "execute_result"
    }
   ],
   "source": [
    "menu_info[1]"
   ]
  },
  {
   "cell_type": "code",
   "execution_count": 129,
   "id": "02bd1499-7ca0-4264-9d3d-32af30edfd4f",
   "metadata": {
    "execution": {
     "iopub.execute_input": "2025-05-06T04:47:15.984092Z",
     "iopub.status.busy": "2025-05-06T04:47:15.983803Z",
     "iopub.status.idle": "2025-05-06T04:47:15.987327Z",
     "shell.execute_reply": "2025-05-06T04:47:15.986853Z",
     "shell.execute_reply.started": "2025-05-06T04:47:15.984069Z"
    }
   },
   "outputs": [
    {
     "data": {
      "text/plain": [
       "[<Response url='https://transparencia.betha.cloud/' request=<Request url='https://transparencia.betha.cloud/' method='GET'>>,\n",
       " <Response url='https://transparencia.betha.cloud/auth-callback.html' request=<Request url='https://transparencia.betha.cloud/auth-callback.html' method='GET'>>,\n",
       " <Response url='https://transparencia.betha.cloud/' request=<Request url='https://transparencia.betha.cloud/' method='GET'>>,\n",
       " <Response url='https://api.transparencia.betha.cloud/transparencia/api/portal' request=<Request url='https://api.transparencia.betha.cloud/transparencia/api/portal' method='GET'>>,\n",
       " <Response url='https://api.transparencia.betha.cloud/transparencia/api/menu' request=<Request url='https://api.transparencia.betha.cloud/transparencia/api/menu' method='GET'>>,\n",
       " <Response url='https://api.transparencia.betha.cloud/transparencia/api/portal/imagem-fundo' request=<Request url='https://api.transparencia.betha.cloud/transparencia/api/portal/imagem-fundo' method='GET'>>,\n",
       " <Response url='https://api.transparencia.betha.cloud/transparencia/api/portal/brasao' request=<Request url='https://api.transparencia.betha.cloud/transparencia/api/portal/brasao' method='GET'>>,\n",
       " <Response url='https://api.transparencia.betha.cloud/transparencia/api/enums' request=<Request url='https://api.transparencia.betha.cloud/transparencia/api/enums' method='GET'>>,\n",
       " <Response url='https://api.transparencia.betha.cloud/transparencia/api/comunicado/capa' request=<Request url='https://api.transparencia.betha.cloud/transparencia/api/comunicado/capa' method='GET'>>,\n",
       " <Response url='https://api.transparencia.betha.cloud/transparencia/api/configuracao-portal' request=<Request url='https://api.transparencia.betha.cloud/transparencia/api/configuracao-portal' method='GET'>>,\n",
       " <Response url='https://api.transparencia.betha.cloud/transparencia/api/canal-atendimento/configuracoes' request=<Request url='https://api.transparencia.betha.cloud/transparencia/api/canal-atendimento/configuracoes' method='GET'>>,\n",
       " <Response url='https://api.transparencia.betha.cloud/transparencia/api/estrutura-organizacional?filter=&limit=100&entidade=0' request=<Request url='https://api.transparencia.betha.cloud/transparencia/api/estrutura-organizacional?filter=&limit=100&entidade=0' method='GET'>>,\n",
       " <Response url='https://api.transparencia.betha.cloud/transparencia/api/comunicado' request=<Request url='https://api.transparencia.betha.cloud/transparencia/api/comunicado' method='GET'>>,\n",
       " <Response url='https://api.transparencia.betha.cloud/transparencia/api/configuracao-portal' request=<Request url='https://api.transparencia.betha.cloud/transparencia/api/configuracao-portal' method='GET'>>,\n",
       " <Response url='https://api.transparencia.betha.cloud/transparencia/api/canal-atendimento' request=<Request url='https://api.transparencia.betha.cloud/transparencia/api/canal-atendimento' method='GET'>>,\n",
       " <Response url='https://api.transparencia.betha.cloud/transparencia/api/configuracao-portal' request=<Request url='https://api.transparencia.betha.cloud/transparencia/api/configuracao-portal' method='GET'>>]"
      ]
     },
     "execution_count": 129,
     "metadata": {},
     "output_type": "execute_result"
    }
   ],
   "source": [
    "responses_list"
   ]
  },
  {
   "cell_type": "code",
   "execution_count": null,
   "id": "5098437f-5c14-4a85-b201-c5ca6a960b1f",
   "metadata": {},
   "outputs": [],
   "source": []
  },
  {
   "cell_type": "code",
   "execution_count": null,
   "id": "87c0b00a-8b0e-463e-b394-05f4ffdc7ef8",
   "metadata": {},
   "outputs": [],
   "source": []
  },
  {
   "cell_type": "code",
   "execution_count": null,
   "id": "c3353599-3947-47b2-913a-345be91a2cf8",
   "metadata": {},
   "outputs": [],
   "source": []
  },
  {
   "cell_type": "code",
   "execution_count": null,
   "id": "cfc9a05c-4c5b-48f8-9cd6-d5a948444ab8",
   "metadata": {},
   "outputs": [],
   "source": []
  },
  {
   "cell_type": "code",
   "execution_count": null,
   "id": "37dd7e40-3aec-4cc4-8f9d-cf516f01f5f6",
   "metadata": {},
   "outputs": [],
   "source": []
  },
  {
   "cell_type": "code",
   "execution_count": null,
   "id": "a74f1c66-226e-46e5-85f1-ba33dba24882",
   "metadata": {},
   "outputs": [],
   "source": []
  },
  {
   "cell_type": "code",
   "execution_count": null,
   "id": "d35f482e-66ff-43c4-ae1d-c75743a6fff8",
   "metadata": {},
   "outputs": [],
   "source": []
  }
 ],
 "metadata": {
  "kernelspec": {
   "display_name": "Python 3 (ipykernel)",
   "language": "python",
   "name": "python3"
  },
  "language_info": {
   "codemirror_mode": {
    "name": "ipython",
    "version": 3
   },
   "file_extension": ".py",
   "mimetype": "text/x-python",
   "name": "python",
   "nbconvert_exporter": "python",
   "pygments_lexer": "ipython3",
   "version": "3.12.2"
  }
 },
 "nbformat": 4,
 "nbformat_minor": 5
}

{
 "cells": [
  {
   "cell_type": "markdown",
   "id": "cbf83b55-2b68-49c1-adcb-9917dfb09f6f",
   "metadata": {},
   "source": [
    "```mermaid\n",
    "flowchart TD\n",
    "    A[link da homepage] --> B[Inserir credenciais]\n",
    "    B --> C{Credenciais válidas?}\n",
    "    C -->|Sim| D[Acessar sistema]\n",
    "    C -->|Não| E{Tentativas < 3?}\n",
    "    E -->|Sim| F[Mostrar erro]\n",
    "    F --> B\n",
    "    E -->|Não| G[Bloquear conta]\n",
    "    D --> H[Página inicial]\n",
    "    G --> I[Fim]\n",
    "    H --> I\n",
    "```"
   ]
  }
 ],
 "metadata": {
  "kernelspec": {
   "display_name": "Python 3 (ipykernel)",
   "language": "python",
   "name": "python3"
  },
  "language_info": {
   "codemirror_mode": {
    "name": "ipython",
    "version": 3
   },
   "file_extension": ".py",
   "mimetype": "text/x-python",
   "name": "python",
   "nbconvert_exporter": "python",
   "pygments_lexer": "ipython3",
   "version": "3.12.2"
  }
 },
 "nbformat": 4,
 "nbformat_minor": 5
}
